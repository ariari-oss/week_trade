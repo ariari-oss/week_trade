{
 "cells": [
  {
   "cell_type": "code",
   "execution_count": 2,
   "id": "21369d10-b746-4b05-85ad-ebbb3290e1b7",
   "metadata": {},
   "outputs": [
    {
     "name": "stdout",
     "output_type": "stream",
     "text": [
      "Collecting line-bot-sdk\n",
      "  Using cached line_bot_sdk-3.9.0-py2.py3-none-any.whl.metadata (13 kB)\n",
      "Requirement already satisfied: requests==2.31.0 in /Users/kawasakiarisa/opt/anaconda3/lib/python3.9/site-packages (from line-bot-sdk) (2.31.0)\n",
      "Collecting urllib3<3,>=2.0.5 (from line-bot-sdk)\n",
      "  Downloading urllib3-2.2.0-py3-none-any.whl.metadata (6.4 kB)\n",
      "Collecting aiohttp==3.9.3 (from line-bot-sdk)\n",
      "  Downloading aiohttp-3.9.3-cp39-cp39-macosx_10_9_x86_64.whl.metadata (7.4 kB)\n",
      "Requirement already satisfied: future in /Users/kawasakiarisa/opt/anaconda3/lib/python3.9/site-packages (from line-bot-sdk) (0.18.3)\n",
      "Collecting pydantic<3,>=2.0.3 (from line-bot-sdk)\n",
      "  Using cached pydantic-2.6.1-py3-none-any.whl.metadata (83 kB)\n",
      "Collecting aenum>=3.1.11 (from line-bot-sdk)\n",
      "  Using cached aenum-3.1.15-py3-none-any.whl.metadata (3.7 kB)\n",
      "Requirement already satisfied: python-dateutil>=2.5.3 in /Users/kawasakiarisa/opt/anaconda3/lib/python3.9/site-packages (from line-bot-sdk) (2.8.2)\n",
      "Collecting Deprecated (from line-bot-sdk)\n",
      "  Using cached Deprecated-1.2.14-py2.py3-none-any.whl.metadata (5.4 kB)\n",
      "Collecting aiosignal>=1.1.2 (from aiohttp==3.9.3->line-bot-sdk)\n",
      "  Using cached aiosignal-1.3.1-py3-none-any.whl (7.6 kB)\n",
      "Requirement already satisfied: attrs>=17.3.0 in /Users/kawasakiarisa/opt/anaconda3/lib/python3.9/site-packages (from aiohttp==3.9.3->line-bot-sdk) (23.1.0)\n",
      "Collecting frozenlist>=1.1.1 (from aiohttp==3.9.3->line-bot-sdk)\n",
      "  Downloading frozenlist-1.4.1-cp39-cp39-macosx_10_9_x86_64.whl.metadata (12 kB)\n",
      "Collecting multidict<7.0,>=4.5 (from aiohttp==3.9.3->line-bot-sdk)\n",
      "  Downloading multidict-6.0.5-cp39-cp39-macosx_10_9_x86_64.whl.metadata (4.2 kB)\n",
      "Collecting yarl<2.0,>=1.0 (from aiohttp==3.9.3->line-bot-sdk)\n",
      "  Downloading yarl-1.9.4-cp39-cp39-macosx_10_9_x86_64.whl.metadata (31 kB)\n",
      "Collecting async-timeout<5.0,>=4.0 (from aiohttp==3.9.3->line-bot-sdk)\n",
      "  Using cached async_timeout-4.0.3-py3-none-any.whl.metadata (4.2 kB)\n",
      "Requirement already satisfied: charset-normalizer<4,>=2 in /Users/kawasakiarisa/opt/anaconda3/lib/python3.9/site-packages (from requests==2.31.0->line-bot-sdk) (2.0.4)\n",
      "Requirement already satisfied: idna<4,>=2.5 in /Users/kawasakiarisa/opt/anaconda3/lib/python3.9/site-packages (from requests==2.31.0->line-bot-sdk) (2.10)\n",
      "Requirement already satisfied: certifi>=2017.4.17 in /Users/kawasakiarisa/opt/anaconda3/lib/python3.9/site-packages (from requests==2.31.0->line-bot-sdk) (2024.2.2)\n",
      "Collecting annotated-types>=0.4.0 (from pydantic<3,>=2.0.3->line-bot-sdk)\n",
      "  Using cached annotated_types-0.6.0-py3-none-any.whl.metadata (12 kB)\n",
      "Collecting pydantic-core==2.16.2 (from pydantic<3,>=2.0.3->line-bot-sdk)\n",
      "  Downloading pydantic_core-2.16.2-cp39-cp39-macosx_10_12_x86_64.whl.metadata (6.5 kB)\n",
      "Requirement already satisfied: typing-extensions>=4.6.1 in /Users/kawasakiarisa/opt/anaconda3/lib/python3.9/site-packages (from pydantic<3,>=2.0.3->line-bot-sdk) (4.7.1)\n",
      "Requirement already satisfied: six>=1.5 in /Users/kawasakiarisa/opt/anaconda3/lib/python3.9/site-packages (from python-dateutil>=2.5.3->line-bot-sdk) (1.16.0)\n",
      "Requirement already satisfied: wrapt<2,>=1.10 in /Users/kawasakiarisa/opt/anaconda3/lib/python3.9/site-packages (from Deprecated->line-bot-sdk) (1.14.1)\n",
      "Using cached line_bot_sdk-3.9.0-py2.py3-none-any.whl (752 kB)\n",
      "Downloading aiohttp-3.9.3-cp39-cp39-macosx_10_9_x86_64.whl (398 kB)\n",
      "\u001b[2K   \u001b[90m━━━━━━━━━━━━━━━━━━━━━━━━━━━━━━━━━━━━━━━\u001b[0m \u001b[32m398.8/398.8 kB\u001b[0m \u001b[31m288.5 kB/s\u001b[0m eta \u001b[36m0:00:00\u001b[0m00:01\u001b[0m00:01\u001b[0m\n",
      "\u001b[?25hUsing cached aenum-3.1.15-py3-none-any.whl (137 kB)\n",
      "Using cached pydantic-2.6.1-py3-none-any.whl (394 kB)\n",
      "Downloading pydantic_core-2.16.2-cp39-cp39-macosx_10_12_x86_64.whl (1.9 MB)\n",
      "\u001b[2K   \u001b[90m━━━━━━━━━━━━━━━━━━━━━━━━━━━━━━━━━━━━━━━━\u001b[0m \u001b[32m1.9/1.9 MB\u001b[0m \u001b[31m797.9 kB/s\u001b[0m eta \u001b[36m0:00:00\u001b[0m00:01\u001b[0m00:01\u001b[0m\n",
      "\u001b[?25hDownloading urllib3-2.2.0-py3-none-any.whl (120 kB)\n",
      "\u001b[2K   \u001b[90m━━━━━━━━━━━━━━━━━━━━━━━━━━━━━━━━━━━━━━━\u001b[0m \u001b[32m120.9/120.9 kB\u001b[0m \u001b[31m903.4 kB/s\u001b[0m eta \u001b[36m0:00:00\u001b[0ma \u001b[36m0:00:01\u001b[0m\n",
      "\u001b[?25hUsing cached Deprecated-1.2.14-py2.py3-none-any.whl (9.6 kB)\n",
      "Using cached annotated_types-0.6.0-py3-none-any.whl (12 kB)\n",
      "Using cached async_timeout-4.0.3-py3-none-any.whl (5.7 kB)\n",
      "Downloading frozenlist-1.4.1-cp39-cp39-macosx_10_9_x86_64.whl (55 kB)\n",
      "\u001b[2K   \u001b[90m━━━━━━━━━━━━━━━━━━━━━━━━━━━━━━━━━━━━━━━━\u001b[0m \u001b[32m55.2/55.2 kB\u001b[0m \u001b[31m1.6 MB/s\u001b[0m eta \u001b[36m0:00:00\u001b[0m\n",
      "\u001b[?25hDownloading multidict-6.0.5-cp39-cp39-macosx_10_9_x86_64.whl (30 kB)\n",
      "Downloading yarl-1.9.4-cp39-cp39-macosx_10_9_x86_64.whl (83 kB)\n",
      "\u001b[2K   \u001b[90m━━━━━━━━━━━━━━━━━━━━━━━━━━━━━━━━━━━━━━━━\u001b[0m \u001b[32m83.7/83.7 kB\u001b[0m \u001b[31m1.1 MB/s\u001b[0m eta \u001b[36m0:00:00\u001b[0ma \u001b[36m0:00:01\u001b[0m\n",
      "\u001b[?25hInstalling collected packages: aenum, urllib3, pydantic-core, multidict, frozenlist, Deprecated, async-timeout, annotated-types, yarl, pydantic, aiosignal, aiohttp, line-bot-sdk\n",
      "  Attempting uninstall: urllib3\n",
      "    Found existing installation: urllib3 1.26.18\n",
      "    Uninstalling urllib3-1.26.18:\n",
      "      Successfully uninstalled urllib3-1.26.18\n",
      "  Attempting uninstall: pydantic\n",
      "    Found existing installation: pydantic 1.10.12\n",
      "    Uninstalling pydantic-1.10.12:\n",
      "      Successfully uninstalled pydantic-1.10.12\n",
      "\u001b[31mERROR: pip's dependency resolver does not currently take into account all the packages that are installed. This behaviour is the source of the following dependency conflicts.\n",
      "anaconda-cloud-auth 0.1.4 requires pydantic<2.0, but you have pydantic 2.6.1 which is incompatible.\n",
      "botocore 1.29.76 requires urllib3<1.27,>=1.25.4, but you have urllib3 2.2.0 which is incompatible.\n",
      "streamlit 1.26.0 requires pillow<10,>=7.1.0, but you have pillow 10.0.1 which is incompatible.\u001b[0m\u001b[31m\n",
      "\u001b[0mSuccessfully installed Deprecated-1.2.14 aenum-3.1.15 aiohttp-3.9.3 aiosignal-1.3.1 annotated-types-0.6.0 async-timeout-4.0.3 frozenlist-1.4.1 line-bot-sdk-3.9.0 multidict-6.0.5 pydantic-2.6.1 pydantic-core-2.16.2 urllib3-2.2.0 yarl-1.9.4\n",
      "\u001b[33mWARNING: There was an error checking the latest version of pip.\u001b[0m\u001b[33m\n",
      "\u001b[0m"
     ]
    }
   ],
   "source": [
    "!pip install line-bot-sdk"
   ]
  },
  {
   "cell_type": "code",
   "execution_count": 77,
   "id": "e07533ff-8211-4618-a778-c7ae14a71cc0",
   "metadata": {},
   "outputs": [],
   "source": [
    "import json"
   ]
  },
  {
   "cell_type": "code",
   "execution_count": 78,
   "id": "163e7dd4-a1b5-49a2-9ce6-d41a123f1d8a",
   "metadata": {},
   "outputs": [],
   "source": [
    "#rは読み込む（read)\n",
    "file = open(\"info.json\",\"r\")\n",
    "info = json.load(file)"
   ]
  },
  {
   "cell_type": "code",
   "execution_count": 5,
   "id": "64de5afa-df1e-4887-93c9-0098930847f1",
   "metadata": {},
   "outputs": [
    {
     "data": {
      "text/plain": [
       "'RrwwArUPJ4YqkPGXbkiljCl+VcaA6rWWhIoEhg07Lc5TAQy408MnjvrFAaAqx6zG0R4fmHyxNDpvExGdwN9pYndgOFAwbRROqFin/CVlxwMJT875+Ik7Cct2D3ZNTghEMvYRg+boJK45q6Jgn7LHlQdB04t89/1O/w1cDnyilFU='"
      ]
     },
     "execution_count": 5,
     "metadata": {},
     "output_type": "execute_result"
    }
   ],
   "source": [
    "info['CHANNEL_TOKEN']"
   ]
  },
  {
   "cell_type": "code",
   "execution_count": 80,
   "id": "dccadcce-a287-4964-885c-0ee3c3af500e",
   "metadata": {},
   "outputs": [],
   "source": [
    "from linebot import LineBotApi\n",
    "from linebot.models import TextSendMessage"
   ]
  },
  {
   "cell_type": "code",
   "execution_count": 81,
   "id": "21b6b0bf-d2fd-474a-9c45-69709621447f",
   "metadata": {},
   "outputs": [
    {
     "name": "stderr",
     "output_type": "stream",
     "text": [
      "/var/folders/xy/v4k38k8121n12zj_qtpv67_m0000gn/T/ipykernel_10869/1446466045.py:2: LineBotSdkDeprecatedIn30: Call to deprecated class LineBotApi. (Use v3 class; linebot.v3.<feature>. See https://github.com/line/line-bot-sdk-python/blob/master/README.rst for more details.) -- Deprecated since version 3.0.0.\n",
      "  line_bot_api = LineBotApi(CHANNEL_TOKEN)\n"
     ]
    }
   ],
   "source": [
    "CHANNEL_TOKEN = info['CHANNEL_TOKEN']\n",
    "line_bot_api = LineBotApi(CHANNEL_TOKEN)"
   ]
  },
  {
   "cell_type": "code",
   "execution_count": 12,
   "id": "74fb893f",
   "metadata": {},
   "outputs": [
    {
     "name": "stderr",
     "output_type": "stream",
     "text": [
      "/var/folders/xy/v4k38k8121n12zj_qtpv67_m0000gn/T/ipykernel_6100/3845685643.py:5: LineBotSdkDeprecatedIn30: Call to deprecated method push_message. (Use 'from linebot.v3.messaging import MessagingApi' and 'MessagingApi(...).push_message(...)' instead. See https://github.com/line/line-bot-sdk-python/blob/master/README.rst for more details.) -- Deprecated since version 3.0.0.\n",
      "  line_bot_api.push_message(USER_ID, messages=messages)\n"
     ]
    }
   ],
   "source": [
    "#def で定義してから始める（ルール）\n",
    "def main():\n",
    "    USER_ID = info['USER_ID']\n",
    "    messages = TextSendMessage(text=\"日経平均:\\n\" + '36,897')\n",
    "    line_bot_api.push_message(USER_ID, messages=messages)\n",
    "\n",
    "if __name__== \"__main__\":\n",
    "    main()"
   ]
  },
  {
   "cell_type": "code",
   "execution_count": 23,
   "id": "c64548da",
   "metadata": {},
   "outputs": [
    {
     "name": "stdout",
     "output_type": "stream",
     "text": [
      "[*********************100%***********************]  1 of 1 completed\n"
     ]
    }
   ],
   "source": [
    "#日経平均情報を取得　→ ATRを算出する\n",
    "\n",
    "import yfinance as yf\n",
    "from pandas_datareader import data as pdr\n",
    "import pandas as pd\n",
    "\n",
    "import datetime\n",
    "\n",
    "\n",
    "ticker = \"^N225\"\n",
    "start = datetime.date(2024,2,8)\n",
    "#翌日の日付を指定しないと当日の日付までのデータを取得できないので、翌日を指定しています\n",
    "end =  datetime.datetime.now() + datetime.timedelta(days = 1)\n",
    "\n",
    "#yfinanceのライブラリで指定した条件でデータを取得\n",
    "yf.pdr_override() \n",
    "df = pdr.get_data_yahoo(ticker, start, end)\n",
    "\n"
   ]
  },
  {
   "cell_type": "code",
   "execution_count": 19,
   "id": "f7c7b391",
   "metadata": {},
   "outputs": [],
   "source": [
    "#import pandas_datareader.data as pdr"
   ]
  },
  {
   "cell_type": "code",
   "execution_count": 23,
   "id": "bf348f34",
   "metadata": {},
   "outputs": [
    {
     "name": "stdout",
     "output_type": "stream",
     "text": [
      "[*********************100%***********************]  1 of 1 completed\n",
      "\n",
      "1 Failed download:\n",
      "- ^NKX: No timezone found, symbol may be delisted\n"
     ]
    },
    {
     "data": {
      "text/html": [
       "<div>\n",
       "<style scoped>\n",
       "    .dataframe tbody tr th:only-of-type {\n",
       "        vertical-align: middle;\n",
       "    }\n",
       "\n",
       "    .dataframe tbody tr th {\n",
       "        vertical-align: top;\n",
       "    }\n",
       "\n",
       "    .dataframe thead th {\n",
       "        text-align: right;\n",
       "    }\n",
       "</style>\n",
       "<table border=\"1\" class=\"dataframe\">\n",
       "  <thead>\n",
       "    <tr style=\"text-align: right;\">\n",
       "      <th></th>\n",
       "      <th>Open</th>\n",
       "      <th>High</th>\n",
       "      <th>Low</th>\n",
       "      <th>Close</th>\n",
       "      <th>Adj Close</th>\n",
       "      <th>Volume</th>\n",
       "    </tr>\n",
       "    <tr>\n",
       "      <th>Date</th>\n",
       "      <th></th>\n",
       "      <th></th>\n",
       "      <th></th>\n",
       "      <th></th>\n",
       "      <th></th>\n",
       "      <th></th>\n",
       "    </tr>\n",
       "  </thead>\n",
       "  <tbody>\n",
       "  </tbody>\n",
       "</table>\n",
       "</div>"
      ],
      "text/plain": [
       "Empty DataFrame\n",
       "Columns: [Open, High, Low, Close, Adj Close, Volume]\n",
       "Index: []"
      ]
     },
     "execution_count": 23,
     "metadata": {},
     "output_type": "execute_result"
    }
   ],
   "source": [
    "#df = pdr.DataReader(\"^NKX\", \"stooq\").sort_index()\n",
    "#df"
   ]
  },
  {
   "cell_type": "code",
   "execution_count": 24,
   "id": "e4c8dd53",
   "metadata": {},
   "outputs": [
    {
     "data": {
      "text/html": [
       "<div>\n",
       "<style scoped>\n",
       "    .dataframe tbody tr th:only-of-type {\n",
       "        vertical-align: middle;\n",
       "    }\n",
       "\n",
       "    .dataframe tbody tr th {\n",
       "        vertical-align: top;\n",
       "    }\n",
       "\n",
       "    .dataframe thead th {\n",
       "        text-align: right;\n",
       "    }\n",
       "</style>\n",
       "<table border=\"1\" class=\"dataframe\">\n",
       "  <thead>\n",
       "    <tr style=\"text-align: right;\">\n",
       "      <th></th>\n",
       "      <th>Open</th>\n",
       "      <th>High</th>\n",
       "      <th>Low</th>\n",
       "      <th>Close</th>\n",
       "      <th>Adj Close</th>\n",
       "      <th>Volume</th>\n",
       "    </tr>\n",
       "    <tr>\n",
       "      <th>Date</th>\n",
       "      <th></th>\n",
       "      <th></th>\n",
       "      <th></th>\n",
       "      <th></th>\n",
       "      <th></th>\n",
       "      <th></th>\n",
       "    </tr>\n",
       "  </thead>\n",
       "  <tbody>\n",
       "    <tr>\n",
       "      <th>2024-02-08</th>\n",
       "      <td>36258.839844</td>\n",
       "      <td>36956.968750</td>\n",
       "      <td>36206.199219</td>\n",
       "      <td>36863.281250</td>\n",
       "      <td>36863.281250</td>\n",
       "      <td>151000000</td>\n",
       "    </tr>\n",
       "    <tr>\n",
       "      <th>2024-02-09</th>\n",
       "      <td>36915.441406</td>\n",
       "      <td>37287.261719</td>\n",
       "      <td>36807.031250</td>\n",
       "      <td>36897.421875</td>\n",
       "      <td>36897.421875</td>\n",
       "      <td>146800000</td>\n",
       "    </tr>\n",
       "  </tbody>\n",
       "</table>\n",
       "</div>"
      ],
      "text/plain": [
       "                    Open          High           Low         Close  \\\n",
       "Date                                                                 \n",
       "2024-02-08  36258.839844  36956.968750  36206.199219  36863.281250   \n",
       "2024-02-09  36915.441406  37287.261719  36807.031250  36897.421875   \n",
       "\n",
       "               Adj Close     Volume  \n",
       "Date                                 \n",
       "2024-02-08  36863.281250  151000000  \n",
       "2024-02-09  36897.421875  146800000  "
      ]
     },
     "execution_count": 24,
     "metadata": {},
     "output_type": "execute_result"
    }
   ],
   "source": [
    "df"
   ]
  },
  {
   "cell_type": "code",
   "execution_count": 32,
   "id": "f3af6171",
   "metadata": {},
   "outputs": [
    {
     "data": {
      "text/html": [
       "<div>\n",
       "<style scoped>\n",
       "    .dataframe tbody tr th:only-of-type {\n",
       "        vertical-align: middle;\n",
       "    }\n",
       "\n",
       "    .dataframe tbody tr th {\n",
       "        vertical-align: top;\n",
       "    }\n",
       "\n",
       "    .dataframe thead th {\n",
       "        text-align: right;\n",
       "    }\n",
       "</style>\n",
       "<table border=\"1\" class=\"dataframe\">\n",
       "  <thead>\n",
       "    <tr style=\"text-align: right;\">\n",
       "      <th></th>\n",
       "      <th>Open</th>\n",
       "      <th>High</th>\n",
       "      <th>Low</th>\n",
       "      <th>Close</th>\n",
       "      <th>Adj Close</th>\n",
       "      <th>Volume</th>\n",
       "    </tr>\n",
       "    <tr>\n",
       "      <th>Date</th>\n",
       "      <th></th>\n",
       "      <th></th>\n",
       "      <th></th>\n",
       "      <th></th>\n",
       "      <th></th>\n",
       "      <th></th>\n",
       "    </tr>\n",
       "  </thead>\n",
       "  <tbody>\n",
       "    <tr>\n",
       "      <th>2024-02-08</th>\n",
       "      <td>36258.839844</td>\n",
       "      <td>36956.968750</td>\n",
       "      <td>36206.199219</td>\n",
       "      <td>36863.281250</td>\n",
       "      <td>36863.281250</td>\n",
       "      <td>151000000</td>\n",
       "    </tr>\n",
       "    <tr>\n",
       "      <th>2024-02-09</th>\n",
       "      <td>36915.441406</td>\n",
       "      <td>37287.261719</td>\n",
       "      <td>36807.031250</td>\n",
       "      <td>36897.421875</td>\n",
       "      <td>36897.421875</td>\n",
       "      <td>146800000</td>\n",
       "    </tr>\n",
       "  </tbody>\n",
       "</table>\n",
       "</div>"
      ],
      "text/plain": [
       "                    Open          High           Low         Close  \\\n",
       "Date                                                                 \n",
       "2024-02-08  36258.839844  36956.968750  36206.199219  36863.281250   \n",
       "2024-02-09  36915.441406  37287.261719  36807.031250  36897.421875   \n",
       "\n",
       "               Adj Close     Volume  \n",
       "Date                                 \n",
       "2024-02-08  36863.281250  151000000  \n",
       "2024-02-09  36897.421875  146800000  "
      ]
     },
     "execution_count": 32,
     "metadata": {},
     "output_type": "execute_result"
    }
   ],
   "source": [
    "#使用するデータは直近とその前日のみなので。\n",
    "#df.tail(2)"
   ]
  },
  {
   "cell_type": "code",
   "execution_count": 25,
   "id": "ed8061ad",
   "metadata": {},
   "outputs": [
    {
     "data": {
      "text/plain": [
       "array([37287.26171875])"
      ]
     },
     "execution_count": 25,
     "metadata": {},
     "output_type": "execute_result"
    }
   ],
   "source": [
    "df[-1:]['High'].values"
   ]
  },
  {
   "cell_type": "code",
   "execution_count": 26,
   "id": "11d1f40e",
   "metadata": {},
   "outputs": [
    {
     "data": {
      "text/plain": [
       "Date\n",
       "2024-02-09    36807.03125\n",
       "Name: Low, dtype: float64"
      ]
     },
     "execution_count": 26,
     "metadata": {},
     "output_type": "execute_result"
    }
   ],
   "source": [
    "df[-1:]['Low']"
   ]
  },
  {
   "cell_type": "code",
   "execution_count": 27,
   "id": "43fd7465",
   "metadata": {},
   "outputs": [
    {
     "data": {
      "text/plain": [
       "array([36807.03125])"
      ]
     },
     "execution_count": 27,
     "metadata": {},
     "output_type": "execute_result"
    }
   ],
   "source": [
    "df[-1:]['Low'].values"
   ]
  },
  {
   "cell_type": "code",
   "execution_count": 28,
   "id": "b8471c89",
   "metadata": {},
   "outputs": [
    {
     "data": {
      "text/plain": [
       "array([36863.28125])"
      ]
     },
     "execution_count": 28,
     "metadata": {},
     "output_type": "execute_result"
    }
   ],
   "source": [
    "df[-2:-1]['Close'].values"
   ]
  },
  {
   "cell_type": "code",
   "execution_count": 29,
   "id": "c31f24e4",
   "metadata": {},
   "outputs": [],
   "source": [
    "TH = df[-1:]['High'].values\n",
    "TL = df[-1:]['Low'].values\n",
    "YC = df[-2:-1]['Close'].values"
   ]
  },
  {
   "cell_type": "code",
   "execution_count": 30,
   "id": "0253c0a7",
   "metadata": {},
   "outputs": [
    {
     "data": {
      "text/plain": [
       "array([423.98046875])"
      ]
     },
     "execution_count": 30,
     "metadata": {},
     "output_type": "execute_result"
    }
   ],
   "source": [
    "TH - YC"
   ]
  },
  {
   "cell_type": "code",
   "execution_count": 31,
   "id": "7541c227",
   "metadata": {},
   "outputs": [],
   "source": [
    "#ATRを求める\n",
    "#当日高値ー当日安値\n",
    "R1 = TH - TL\n",
    "#当日高値ー前日終値\n",
    "R2 = TH - YC\n",
    "#当日安値ー前日終値\n",
    "R3 = TL - YC"
   ]
  },
  {
   "cell_type": "code",
   "execution_count": 33,
   "id": "4cd573c3",
   "metadata": {},
   "outputs": [
    {
     "data": {
      "text/plain": [
       "array([480.23046875])"
      ]
     },
     "execution_count": 33,
     "metadata": {},
     "output_type": "execute_result"
    }
   ],
   "source": [
    "#三つの値で一番大きいものがATR\n",
    "max(R1,R2,R3)"
   ]
  },
  {
   "cell_type": "code",
   "execution_count": 19,
   "id": "980d09e1",
   "metadata": {},
   "outputs": [],
   "source": [
    "#import pandas_datareader.data as pdr"
   ]
  },
  {
   "cell_type": "code",
   "execution_count": 65,
   "id": "04323a54",
   "metadata": {},
   "outputs": [],
   "source": [
    "#上記までの流れを関数にする\n",
    "#①ストックからデータを取ってくる関数\n",
    "def get_stock_data(code):\n",
    "    df = yf.download(code, period='7d', interval =\"1d\").sort_index()\n",
    "    return df"
   ]
  },
  {
   "cell_type": "code",
   "execution_count": 66,
   "id": "7b57171f",
   "metadata": {},
   "outputs": [],
   "source": [
    "#②最新日の終値を取ってくる関数\n",
    "def get_close(df):\n",
    "    return df.tail(1)['Close'].values\n",
    "    "
   ]
  },
  {
   "cell_type": "code",
   "execution_count": 67,
   "id": "09e83ab9",
   "metadata": {},
   "outputs": [],
   "source": [
    "#③ATRを算出する関数\n",
    "def get_ATR(df):\n",
    "    TH = df[-1:]['High'].values\n",
    "    TL = df[-1:]['Low'].values\n",
    "    YC = df[-2:-1]['Close'].values\n",
    "\n",
    "    #当日高値ー当日安値\n",
    "    R1 = TH - TL\n",
    "    #当日高値ー前日終値\n",
    "    R2 = TH - YC\n",
    "    #当日安値ー前日終値\n",
    "    R3 = TL - YC\n",
    "\n",
    "    return max(R1,R2,R3)\n"
   ]
  },
  {
   "cell_type": "code",
   "execution_count": 76,
   "id": "5bf309c4",
   "metadata": {},
   "outputs": [
    {
     "name": "stdout",
     "output_type": "stream",
     "text": [
      "[*********************100%***********************]  1 of 1 completed\n",
      "\n",
      "1 Failed download:\n",
      "- ^NKX: No timezone found, symbol may be delisted\n"
     ]
    }
   ],
   "source": [
    "#df = get_stock_data('^NKX')"
   ]
  },
  {
   "cell_type": "code",
   "execution_count": 68,
   "id": "8556f902",
   "metadata": {},
   "outputs": [
    {
     "data": {
      "text/plain": [
       "array([480.23046875])"
      ]
     },
     "execution_count": 68,
     "metadata": {},
     "output_type": "execute_result"
    }
   ],
   "source": [
    "get_ATR(df)"
   ]
  },
  {
   "cell_type": "code",
   "execution_count": 69,
   "id": "59cda5b2",
   "metadata": {},
   "outputs": [
    {
     "data": {
      "text/plain": [
       "480.23046875"
      ]
     },
     "execution_count": 69,
     "metadata": {},
     "output_type": "execute_result"
    }
   ],
   "source": [
    "get_ATR(df)[0]"
   ]
  },
  {
   "cell_type": "code",
   "execution_count": 70,
   "id": "061c40f8-056d-4818-a04c-2132f06d655e",
   "metadata": {},
   "outputs": [
    {
     "data": {
      "text/plain": [
       "480.23"
      ]
     },
     "execution_count": 70,
     "metadata": {},
     "output_type": "execute_result"
    }
   ],
   "source": [
    "round(get_ATR(df)[0],2)"
   ]
  },
  {
   "cell_type": "code",
   "execution_count": 75,
   "id": "fdeaad0c",
   "metadata": {},
   "outputs": [
    {
     "data": {
      "text/plain": [
       "'日経平均終日終値36897.421875\\n真の値幅480.23\\n真の値幅(50%)240.115\\n真の値幅(80%)384.184\\n'"
      ]
     },
     "execution_count": 75,
     "metadata": {},
     "output_type": "execute_result"
    }
   ],
   "source": [
    "#上記はあくまでも数字のやりとりなので、LINEに送る場合は文字に変えたい\n",
    "price = str(get_close(df)[0])\n",
    "ATR = round(get_ATR(df)[0],2)\n",
    "\n",
    "#ATRは下記を計算してから文字にする（str）　\\nは改行の意味\n",
    "\n",
    "mess = \"日経平均終日終値\" + price + \"\\n\"\\\n",
    "\"真の値幅\" + str(ATR) + \"\\n\"\\\n",
    "\"真の値幅(50%)\"  + str(ATR*0.5) + \"\\n\"\\\n",
    "\"真の値幅(80%)\"  + str(ATR*0.8) + \"\\n\"\\\n",
    "\n",
    "mess"
   ]
  },
  {
   "cell_type": "code",
   "execution_count": 82,
   "id": "09654036",
   "metadata": {},
   "outputs": [
    {
     "name": "stderr",
     "output_type": "stream",
     "text": [
      "/var/folders/xy/v4k38k8121n12zj_qtpv67_m0000gn/T/ipykernel_10869/899681241.py:12: LineBotSdkDeprecatedIn30: Call to deprecated method push_message. (Use 'from linebot.v3.messaging import MessagingApi' and 'MessagingApi(...).push_message(...)' instead. See https://github.com/line/line-bot-sdk-python/blob/master/README.rst for more details.) -- Deprecated since version 3.0.0.\n",
      "  line_bot_api.push_message(USER_ID, messages=messages)\n"
     ]
    }
   ],
   "source": [
    "def main():\n",
    "    USER_ID = info['USER_ID']\n",
    "    price = str(get_close(df)[0])\n",
    "    ATR = round(get_ATR(df)[0],2)\n",
    "\n",
    "    mess = \"日経平均終日終値\" + price + \"\\n\"\\\n",
    "    \"真の値幅\" + str(ATR) + \"\\n\"\\\n",
    "    \"真の値幅(50%)\"  + str(ATR*0.5) + \"\\n\"\\\n",
    "    \"真の値幅(80%)\"  + str(ATR*0.8) + \"\\n\"\\\n",
    "\n",
    "    messages = TextSendMessage(text= mess)\n",
    "    line_bot_api.push_message(USER_ID, messages=messages)\n",
    "\n",
    "if __name__== \"__main__\":\n",
    "    main()"
   ]
  },
  {
   "cell_type": "code",
   "execution_count": null,
   "id": "7a1b7cbf",
   "metadata": {},
   "outputs": [],
   "source": []
  }
 ],
 "metadata": {
  "kernelspec": {
   "display_name": "Python 3 (ipykernel)",
   "language": "python",
   "name": "python3"
  },
  "language_info": {
   "codemirror_mode": {
    "name": "ipython",
    "version": 3
   },
   "file_extension": ".py",
   "mimetype": "text/x-python",
   "name": "python",
   "nbconvert_exporter": "python",
   "pygments_lexer": "ipython3",
   "version": "3.9.18"
  }
 },
 "nbformat": 4,
 "nbformat_minor": 5
}
