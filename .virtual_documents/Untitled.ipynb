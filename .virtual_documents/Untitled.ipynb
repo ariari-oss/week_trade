!pip install line-bot-sdk


import json


#rは読み込む（read)
file = open("info.json","r")
info = json.load(file)


info['CHANNEL_TOKEN']


from linebot import LineBotApi
from linebot.models import TextSendMessage


CHANNEL_TOKEN = info['CHANNEL_TOKEN']
line_bot_api = LineBotApi(CHANNEL_TOKEN)


#def で定義してから始める（ルール）
def main():
    USER_ID = info['USER_ID']
    messages = TextSendMessage(text="日経平均:\n" + '36,897')
    line_bot_api.push_message(USER_ID, messages=messages)

if __name__== "__main__":
    main()


#日経平均情報を取得　→ ATRを算出する

import yfinance as yf
from pandas_datareader import data as pdr
import pandas as pd

import datetime


ticker = "^N225"
start = datetime.date(2024,2,8)
#翌日の日付を指定しないと当日の日付までのデータを取得できないので、翌日を指定しています
end =  datetime.datetime.now() + datetime.timedelta(days = 1)

#yfinanceのライブラリで指定した条件でデータを取得
yf.pdr_override() 
df = pdr.get_data_yahoo(ticker, start, end)




#import pandas_datareader.data as pdr


#df = pdr.DataReader("^NKX", "stooq").sort_index()
#df


df


#使用するデータは直近とその前日のみなので。
#df.tail(2)


df[-1:]['High'].values


df[-1:]['Low']


df[-1:]['Low'].values


df[-2:-1]['Close'].values


TH = df[-1:]['High'].values
TL = df[-1:]['Low'].values
YC = df[-2:-1]['Close'].values


TH - YC


#ATRを求める
#当日高値ー当日安値
R1 = TH - TL
#当日高値ー前日終値
R2 = TH - YC
#当日安値ー前日終値
R3 = TL - YC


#三つの値で一番大きいものがATR
max(R1,R2,R3)


!pip install pandas_datareader


import pandas_datareader.data as pdr


#上記までの流れを関数にする
#①ストックからデータを取ってくる関数
def get_stock_data(code):
    df = pdr.DataReader(code, "stooq").sort_index()
    return df


df = pdr.DataReader("4449.JP", "stooq").sort_index()
df


#②最新日の終値を取ってくる関数
def get_close(df):
    return df.tail(1)['Close'].values
    


#③ATRを算出する関数
def get_ATR(df):
    TH = df[-1:]['High'].values
    TL = df[-1:]['Low'].values
    YC = df[-2:-1]['Close'].values

    #当日高値ー当日安値
    R1 = TH - TL
    #当日高値ー前日終値
    R2 = TH - YC
    #当日安値ー前日終値
    R3 = TL - YC

    return max(R1,R2,R3)



df = get_stock_data('^NKX')


get_ATR(df)


get_ATR(df)[0]


#上記はあくまでも数字のやりとりなので、LINEに送る場合は文字に変えたい
price = str(get_close(df)[0])
ATR = get_ATR(df)[0]

#ATRは下記を計算してから文字にする（str）　\nは改行の意味

mess = "日経平均終日終値" + price + "\n"\
"真の値幅" + str(ATR) + "\n"\
"真の値幅(50%)"  + str(ATR*0.5) + "\n"\
"真の値幅(80%)"  + str(ATR*0.8) + "\n"\

mess


def main():
    USER_ID = info['USER_ID']
    price = str(get_close(df)[0])
    ATR = get_ATR(df)[0]

    mess = "日経平均終日終値" + price + "\n"\
    "真の値幅" + str(ATR) + "\n"\
    "真の値幅(50%)"  + str(ATR*0.5) + "\n"\
    "真の値幅(80%)"  + str(ATR*0.8) + "\n"\

    messages = TextSendMessage(text= mess)
    line_bot_api.push_message(USER_ID, messages=messages)

if __name__== "__main__":
    main()



